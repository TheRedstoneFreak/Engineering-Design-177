{
 "cells": [
  {
   "cell_type": "code",
   "execution_count": 92,
   "id": "a02c7c59",
   "metadata": {},
   "outputs": [],
   "source": [
    "import time\n",
    "import datetime\n",
    "\n",
    "fruit_dct = {\"Apple\": 30, \"Avocado\": 3, \"Berries\": 3, \"Citrus\": 16, \n",
    "             \"Kiwi (unripe)\": 7, \"Peaches\": 3, \"Pears\": 14, \"Strawberries\": 3}\n",
    "\n",
    "vegetables_dct = {\"Asparagus\": 4, \"Beans\": 5, \"Broccoli\": 6, \"Carrots\": 80, \"Capsicum\": 12,\n",
    "                 \"Cauliflower\": 12, \"Celery\": 25, \"Corn\": 3, \"Cucumber\": 11,\n",
    "                 \"Eggplant\": 11, \"Lettuce\": 11, \"Mushrooms\": 11, \"Onion\": 80, \"Peas\": 6, \"Tomatoes\": 6}\n",
    "\n",
    "food_dct = {**fruit_dct, **vegetables_dct}\n",
    "\n",
    "food_in_fridge = list()\n",
    "\n",
    "today = datetime.date.today()\n",
    "tomorrow = datetime.date.today() + datetime.timedelta(days=1)\n"
   ]
  },
  {
   "cell_type": "code",
   "execution_count": 93,
   "id": "6b53b60e",
   "metadata": {},
   "outputs": [
    {
     "name": "stdout",
     "output_type": "stream",
     "text": [
      "2022-10-18\n"
     ]
    }
   ],
   "source": [
    "print(today)\n"
   ]
  },
  {
   "cell_type": "code",
   "execution_count": 95,
   "id": "5243d63b",
   "metadata": {},
   "outputs": [
    {
     "name": "stdout",
     "output_type": "stream",
     "text": [
      "2\n"
     ]
    }
   ],
   "source": [
    "### Update new day\n",
    "if today != datetime.date.today():\n",
    "    delta = datetime.date.today() - today \n",
    "    delta = delta.days\n",
    "    print(delta)\n",
    "    for i in food_in_fridge:\n",
    "        i[2] = i[2] - delta"
   ]
  },
  {
   "cell_type": "code",
   "execution_count": 67,
   "id": "ea495dfe",
   "metadata": {
    "scrolled": true
   },
   "outputs": [
    {
     "name": "stdout",
     "output_type": "stream",
     "text": [
      "Enter your new food: Apple\n",
      "How many? Or grams: 3\n",
      "3\n",
      "Food: Apple, quantity: 3, days left:30\n",
      "Enter your new food: Strawberries\n",
      "How many? Or grams: 100\n",
      "100\n",
      "Food: Strawberries, quantity: 100, days left:3\n",
      "Enter your new food: Raspberries\n",
      "How many? Or grams: 100\n",
      "100\n",
      "Enter expiration date: 2022-10-21\n",
      "Food: Raspberries, quantity: 100, days left:4\n",
      "Enter your new food: Exit\n"
     ]
    }
   ],
   "source": [
    "### Input food\n",
    "while True:\n",
    "    new_food = input('Enter your new food: ')\n",
    "    if new_food == 'Exit':\n",
    "        break\n",
    "        \n",
    "    new_quantity = input('How many? Or grams: ') or 1\n",
    "    print(new_quantity)\n",
    "    if not new_food in food_dct:\n",
    "        new_date = input('Enter expiration date: ')\n",
    "        new_days_left = datetime.datetime.strptime(new_date, \"%Y-%m-%d\").date() - today\n",
    "        new_days_left = new_days_left.days\n",
    "    else:\n",
    "        new_days_left = food_dct[new_food]\n",
    "    food_tup = new_food, new_quantity, new_days_left, new_date\n",
    "    print(\"Food: {}, quantity: {}, days left: {}\".format(food_tup[0], food_tup[1], food_tup[2] ))\n",
    "    food_in_fridge.append(food_tup)"
   ]
  },
  {
   "cell_type": "code",
   "execution_count": 69,
   "id": "d61fed2d",
   "metadata": {},
   "outputs": [
    {
     "name": "stdout",
     "output_type": "stream",
     "text": [
      "('Strawberry', '100', 3)\n",
      "('Strawberries', '100', 3)\n",
      "('Strawberries', '100', 3)\n",
      "('Raspberries', '100', 4)\n",
      "('Apple', '1', 30)\n",
      "('Apple', '3', 30)\n"
     ]
    }
   ],
   "source": [
    "food_in_fridge.sort(key=lambda x:x[2])\n",
    "### Display total list with food\n",
    "for i in food_in_fridge:\n",
    "    print(i)\n",
    "    "
   ]
  },
  {
   "cell_type": "code",
   "execution_count": 73,
   "id": "83c89cf4",
   "metadata": {},
   "outputs": [
    {
     "data": {
      "text/plain": [
       "[('Strawberry', '100', 3),\n",
       " ('Strawberries', '100', 3),\n",
       " ('Strawberries', '100', 3)]"
      ]
     },
     "execution_count": 73,
     "metadata": {},
     "output_type": "execute_result"
    }
   ],
   "source": [
    "### Displaying food of today\n",
    "Today_list = [food_t for food_t in food_in_fridge if food_t[2] <= 3] ### moet aangepast worden naar 0 (nu 3) \n",
    "Today_list = [food_t for food_t in food_in_fridge if (food_in_fridge[0][3] - today).days < 1] ### Tweede optie, moet nog aanpassen\n",
    "Today_list"
   ]
  },
  {
   "cell_type": "code",
   "execution_count": 90,
   "id": "f1d419eb",
   "metadata": {},
   "outputs": [
    {
     "data": {
      "text/plain": [
       "1"
      ]
     },
     "execution_count": 90,
     "metadata": {},
     "output_type": "execute_result"
    }
   ],
   "source": [
    "(tomorrow - today).days"
   ]
  },
  {
   "cell_type": "code",
   "execution_count": null,
   "id": "80537824",
   "metadata": {},
   "outputs": [],
   "source": []
  }
 ],
 "metadata": {
  "kernelspec": {
   "display_name": "Python 3",
   "language": "python",
   "name": "python3"
  },
  "language_info": {
   "codemirror_mode": {
    "name": "ipython",
    "version": 3
   },
   "file_extension": ".py",
   "mimetype": "text/x-python",
   "name": "python",
   "nbconvert_exporter": "python",
   "pygments_lexer": "ipython3",
   "version": "3.8.8"
  }
 },
 "nbformat": 4,
 "nbformat_minor": 5
}
